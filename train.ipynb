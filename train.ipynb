{
 "cells": [
  {
   "cell_type": "code",
   "execution_count": 1,
   "metadata": {},
   "outputs": [],
   "source": [
    "import sys\n",
    "import os\n",
    "from contextlib import redirect_stdout, redirect_stderr\n",
    "from fasttext import train_unsupervised"
   ]
  },
  {
   "cell_type": "code",
   "execution_count": 2,
   "metadata": {},
   "outputs": [
    {
     "name": "stderr",
     "output_type": "stream",
     "text": [
      "Read 11M words\n",
      "Number of words:  142237\n",
      "Number of labels: 0\n",
      "Progress:  23.9% words/sec/thread:    4754 lr:  0.038056 avg.loss:  2.117377 ETA:   0h35m44s"
     ]
    }
   ],
   "source": [
    "current_directory = os.getcwd()\n",
    "model_path = os.path.join(current_directory, \"models\")\n",
    "log_path = '/home/hice1/dharden7/scratch/canonical_greeklit/training_log.txt'\n",
    "\n",
    "def train_model(model_path, log_path):\n",
    "    if not os.path.exists(model_path):\n",
    "        os.makedirs(model_path)\n",
    "\n",
    "    model = None\n",
    "\n",
    "    with open(log_path, 'w') as f:\n",
    "        with redirect_stdout(f), redirect_stderr(f):\n",
    "            print(\"TRY SUCCESS\")\n",
    "            model = train_unsupervised(\n",
    "                input='/storage/ice-shared/vip-vyf/team1/canonical_greeklit/post_process/corpora.bin',\n",
    "                model='skipgram',\n",
    "                lr=0.05,\n",
    "                dim=200,\n",
    "                ws=10,\n",
    "                epoch=75,\n",
    "                minCount=5,\n",
    "                minn=3,\n",
    "                maxn=10,\n",
    "                neg=8,\n",
    "                wordNgrams=2,\n",
    "                loss='ns',\n",
    "                bucket=2000000,\n",
    "                thread=64,\n",
    "                lrUpdateRate=100,\n",
    "                t=0.0001,\n",
    "                verbose=2\n",
    "            )\n",
    "    return model\n",
    "\n",
    "v_num = 2\n",
    "model = train_model(model_path, log_path)\n",
    "if model is not None:\n",
    "    model.save_model(f\"{model_path}/model_{v_num}\")\n",
    "else:\n",
    "    print(\"\\nMODEL TRAINING FAILED.\")"
   ]
  }
 ],
 "metadata": {
  "kernelspec": {
   "display_name": "Python (parse)",
   "language": "python",
   "name": "parse"
  },
  "language_info": {
   "codemirror_mode": {
    "name": "ipython",
    "version": 3
   },
   "file_extension": ".py",
   "mimetype": "text/x-python",
   "name": "python",
   "nbconvert_exporter": "python",
   "pygments_lexer": "ipython3",
   "version": "3.9.21"
  },
  "orig_nbformat": 4
 },
 "nbformat": 4,
 "nbformat_minor": 2
}
